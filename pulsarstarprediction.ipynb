{
 "cells": [
  {
   "cell_type": "code",
   "execution_count": 1,
   "metadata": {
    "_cell_guid": "b1076dfc-b9ad-4769-8c92-a6c4dae69d19",
    "_uuid": "8f2839f25d086af736a60e9eeb907d3b93b6e0e5"
   },
   "outputs": [
    {
     "name": "stdout",
     "output_type": "stream",
     "text": [
      "/kaggle/input/pulsar_stars.csv\n"
     ]
    }
   ],
   "source": [
    "# This Python 3 environment comes with many helpful analytics libraries installed\n",
    "# It is defined by the kaggle/python docker image: https://github.com/kaggle/docker-python\n",
    "# For example, here's several helpful packages to load in \n",
    "\n",
    "import numpy as np # linear algebra\n",
    "import pandas as pd # data processing, CSV file I/O (e.g. pd.read_csv)\n",
    "\n",
    "# Input data files are available in the \"../input/\" directory.\n",
    "# For example, running this (by clicking run or pressing Shift+Enter) will list all files under the input directory\n",
    "\n",
    "import os\n",
    "for dirname, _, filenames in os.walk('/kaggle/input'):\n",
    "    for filename in filenames:\n",
    "        print(os.path.join(dirname, filename))\n",
    "\n",
    "# Any results you write to the current directory are saved as output."
   ]
  },
  {
   "cell_type": "markdown",
   "metadata": {},
   "source": [
    "Getting the data from the CSV File and splitting into input and predictions."
   ]
  },
  {
   "cell_type": "code",
   "execution_count": 2,
   "metadata": {
    "_cell_guid": "79c7e3d0-c299-4dcb-8224-4455121ee9b0",
    "_uuid": "d629ff2d2480ee46fbb7e2d37f6b5fab8052498a"
   },
   "outputs": [
    {
     "name": "stdout",
     "output_type": "stream",
     "text": [
      "    Mean of the integrated profile  \\\n",
      "0                       140.562500   \n",
      "1                       102.507812   \n",
      "2                       103.015625   \n",
      "3                       136.750000   \n",
      "4                        88.726562   \n",
      "\n",
      "    Standard deviation of the integrated profile  \\\n",
      "0                                      55.683782   \n",
      "1                                      58.882430   \n",
      "2                                      39.341649   \n",
      "3                                      57.178449   \n",
      "4                                      40.672225   \n",
      "\n",
      "    Excess kurtosis of the integrated profile  \\\n",
      "0                                   -0.234571   \n",
      "1                                    0.465318   \n",
      "2                                    0.323328   \n",
      "3                                   -0.068415   \n",
      "4                                    0.600866   \n",
      "\n",
      "    Skewness of the integrated profile   Mean of the DM-SNR curve  \\\n",
      "0                            -0.699648                   3.199833   \n",
      "1                            -0.515088                   1.677258   \n",
      "2                             1.051164                   3.121237   \n",
      "3                            -0.636238                   3.642977   \n",
      "4                             1.123492                   1.178930   \n",
      "\n",
      "    Standard deviation of the DM-SNR curve  \\\n",
      "0                                19.110426   \n",
      "1                                14.860146   \n",
      "2                                21.744669   \n",
      "3                                20.959280   \n",
      "4                                11.468720   \n",
      "\n",
      "    Excess kurtosis of the DM-SNR curve   Skewness of the DM-SNR curve  \\\n",
      "0                              7.975532                      74.242225   \n",
      "1                             10.576487                     127.393580   \n",
      "2                              7.735822                      63.171909   \n",
      "3                              6.896499                      53.593661   \n",
      "4                             14.269573                     252.567306   \n",
      "\n",
      "   target_class  \n",
      "0             0  \n",
      "1             0  \n",
      "2             0  \n",
      "3             0  \n",
      "4             0  \n",
      "(17898, 9)\n"
     ]
    }
   ],
   "source": [
    "df = pd.read_csv(\"/kaggle/input/pulsar_stars.csv\")\n",
    "print(df.head())\n",
    "values = df.values\n",
    "print(values.shape)\n",
    "X = values[:, 0:7]\n",
    "Y = values[:, 8]"
   ]
  },
  {
   "cell_type": "markdown",
   "metadata": {},
   "source": [
    "Importing Scikit-learn libraries.\n",
    "Using SVC as it is a classification problem.\n",
    "Using accuracy as measurement index."
   ]
  },
  {
   "cell_type": "code",
   "execution_count": 3,
   "metadata": {},
   "outputs": [],
   "source": [
    "from sklearn import preprocessing\n",
    "from sklearn.model_selection import train_test_split\n",
    "from sklearn.svm import SVC\n",
    "from sklearn.metrics import accuracy_score\n",
    "from sklearn.preprocessing import StandardScaler"
   ]
  },
  {
   "cell_type": "markdown",
   "metadata": {},
   "source": [
    "Splitting into train and test sets.\n",
    "Also applying a standard scaler."
   ]
  },
  {
   "cell_type": "code",
   "execution_count": 4,
   "metadata": {},
   "outputs": [],
   "source": [
    "X_train, X_test, y_train, y_test = train_test_split(X, Y, random_state=33)\n",
    "scaler = StandardScaler().fit(X_train)\n",
    "s_X = scaler.transform(X_train)\n",
    "s_X_test = scaler.transform(X_test)"
   ]
  },
  {
   "cell_type": "markdown",
   "metadata": {},
   "source": [
    "Creating a Support Vector Classifier with radial basic function kernal.\n",
    "Then fitting the training dataset."
   ]
  },
  {
   "cell_type": "code",
   "execution_count": 5,
   "metadata": {},
   "outputs": [
    {
     "data": {
      "text/plain": [
       "SVC(C=1.0, cache_size=200, class_weight=None, coef0=0.0,\n",
       "    decision_function_shape='ovr', degree=3, gamma='auto_deprecated',\n",
       "    kernel='rbf', max_iter=-1, probability=False, random_state=None,\n",
       "    shrinking=True, tol=0.001, verbose=False)"
      ]
     },
     "execution_count": 5,
     "metadata": {},
     "output_type": "execute_result"
    }
   ],
   "source": [
    "svc = SVC(kernel='rbf')\n",
    "svc.fit(s_X, y_train)"
   ]
  },
  {
   "cell_type": "raw",
   "metadata": {},
   "source": [
    "Predicting Y values corresponding to the test dataset."
   ]
  },
  {
   "cell_type": "code",
   "execution_count": 6,
   "metadata": {},
   "outputs": [
    {
     "data": {
      "text/plain": [
       "0.9792178770949721"
      ]
     },
     "execution_count": 6,
     "metadata": {},
     "output_type": "execute_result"
    }
   ],
   "source": [
    "y_pred = svc.predict(s_X_test)\n",
    "accuracy_score(y_test, y_pred)"
   ]
  },
  {
   "cell_type": "markdown",
   "metadata": {},
   "source": [
    "We have created a Model which if given the values of the parameters can predict with 97.9218% accuracy if the star is a Pulsar Star."
   ]
  }
 ],
 "metadata": {
  "kernelspec": {
   "display_name": "Python 3",
   "language": "python",
   "name": "python3"
  },
  "language_info": {
   "codemirror_mode": {
    "name": "ipython",
    "version": 3
   },
   "file_extension": ".py",
   "mimetype": "text/x-python",
   "name": "python",
   "nbconvert_exporter": "python",
   "pygments_lexer": "ipython3",
   "version": "3.6.6"
  }
 },
 "nbformat": 4,
 "nbformat_minor": 1
}
